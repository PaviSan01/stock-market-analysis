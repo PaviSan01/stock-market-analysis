{
 "cells": [
  {
   "cell_type": "code",
   "execution_count": 20,
   "metadata": {},
   "outputs": [],
   "source": [
    "\n",
    "# importing required libraries\n",
    "import datetime\n",
    "import yfinance as yf\n",
    "import dash\n",
    "import dash_core_components as dcc\n",
    "import dash_html_components as html\n",
    "from dash.dependencies import Input, Output\n",
    "import pandas_datareader as web"
   ]
  },
  {
   "cell_type": "code",
   "execution_count": 22,
   "metadata": {},
   "outputs": [],
   "source": [
    "app = dash.Dash()\n",
    "app.title = \"Stock Visualisation\"\n",
    "\n",
    "app.layout = html.Div(children=[\n",
    "\thtml.H1(\"Stock Visualisation Dashboard\"),\n",
    "\thtml.H4(\"Please enter the stock name\"),\n",
    "\tdcc.Input(id='input', value='AAPL', type='text'),\n",
    "\thtml.Div(id='output-graph')\n",
    "])\n"
   ]
  },
  {
   "cell_type": "code",
   "execution_count": 26,
   "metadata": {},
   "outputs": [],
   "source": [
    "# callback Decorator \n",
    "@app.callback(\n",
    "\tOutput(component_id='output-graph', component_property='children'),\n",
    "\t[Input(component_id='input', component_property='value')]\n",
    ")\n",
    "def update_graph(input_data):\n",
    "\tstart = datetime.datetime(2010, 1, 1)\n",
    "\tend = datetime.datetime(2011,1,12)\n",
    "\n",
    "\ttry:\n",
    "\t\tdf = web.DataReader(input_data, 'yahoo', start, end)\n",
    "\n",
    "\t\tgraph = dcc.Graph(id =\"example\", figure ={\n",
    "\t\t\t'data':[{'x':df.index, 'y':df.Close, 'type':'line', 'name':input_data}],\n",
    "\t\t\t'layout':{\n",
    "\t\t\t\t'title':input_data\n",
    "\t\t\t}\n",
    "\t\t})\n",
    "\n",
    "\texcept:\n",
    "\t\tgraph = html.Div(\"Error retrieving stock data.\")\n",
    "\n",
    "\treturn graph\n"
   ]
  },
  {
   "cell_type": "code",
   "execution_count": 27,
   "metadata": {},
   "outputs": [
    {
     "data": {
      "text/html": [
       "\n",
       "        <iframe\n",
       "            width=\"100%\"\n",
       "            height=\"650\"\n",
       "            src=\"http://127.0.0.1:8050/\"\n",
       "            frameborder=\"0\"\n",
       "            allowfullscreen\n",
       "            \n",
       "        ></iframe>\n",
       "        "
      ],
      "text/plain": [
       "<IPython.lib.display.IFrame at 0x149c019e720>"
      ]
     },
     "metadata": {},
     "output_type": "display_data"
    }
   ],
   "source": [
    "if __name__ == '__main__':\n",
    "\tapp.run_server()\n"
   ]
  },
  {
   "cell_type": "code",
   "execution_count": null,
   "metadata": {},
   "outputs": [],
   "source": []
  }
 ],
 "metadata": {
  "kernelspec": {
   "display_name": "stock_market_app",
   "language": "python",
   "name": "python3"
  },
  "language_info": {
   "codemirror_mode": {
    "name": "ipython",
    "version": 3
   },
   "file_extension": ".py",
   "mimetype": "text/x-python",
   "name": "python",
   "nbconvert_exporter": "python",
   "pygments_lexer": "ipython3",
   "version": "3.12.3"
  }
 },
 "nbformat": 4,
 "nbformat_minor": 2
}
